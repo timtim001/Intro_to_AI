{
 "cells": [
  {
   "cell_type": "code",
   "execution_count": null,
   "metadata": {},
   "outputs": [],
   "source": [
    "import numpy as np\n",
    "import matplotlib.pyplot as plt\n",
    "import matplotlib\n",
    "%matplotlib inline"
   ]
  },
  {
   "cell_type": "code",
   "execution_count": null,
   "metadata": {},
   "outputs": [],
   "source": [
    "test_sizes = [1,5,10,25,50,75,90,100,104]"
   ]
  },
  {
   "cell_type": "code",
   "execution_count": null,
   "metadata": {},
   "outputs": [],
   "source": [
    "def precision(sample,target_class=0):\n",
    "    subset = np.where(sample[:,0]==target_class)[0]\n",
    "    num_true = len(subset)\n",
    "    num_false_negatives = len(np.where(sample[subset,1]!=target_class)[0])\n",
    "    num_true_positives = num_true - num_false_negatives\n",
    "    # Uncomment to print the counts...\n",
    "    # print(num_true,num_true_positives,num_false_negatives)\n",
    "    \n",
    "    subset = np.where(sample[:,0]!=target_class)[0]\n",
    "    num_false = len(subset)\n",
    "    num_true_negatives = len(np.where(sample[subset,1]!=target_class)[0])\n",
    "    num_false_positives = num_false - num_true_negatives\n",
    "    # Uncomment to print the counts\n",
    "    # print(num_false,num_false_positives,num_true_negatives)\n",
    "\n",
    "    denom = num_true_positives + num_false_positives\n",
    "    if denom > 0:\n",
    "        return num_true_positives / denom\n",
    "    else:\n",
    "        return 0.0\n",
    "    \n",
    "def calc_precision(samples,target_class=0):\n",
    "    return np.array([precision(x,target_class) for x in samples])"
   ]
  },
  {
   "cell_type": "code",
   "execution_count": null,
   "metadata": {},
   "outputs": [],
   "source": [
    "def recall(sample,target_class=0):\n",
    "    subset = np.where(sample[:,0]==target_class)[0]\n",
    "    num_true = len(subset)\n",
    "    num_false_negatives = len(np.where(sample[subset,1]!=target_class)[0])\n",
    "    num_true_positives = num_true - num_false_negatives\n",
    "    # Uncomment to print the counts...\n",
    "    # print(num_true,num_true_positives,num_false_negatives)\n",
    "    \n",
    "    subset = np.where(sample[:,0]!=target_class)[0]\n",
    "    num_false = len(subset)\n",
    "    num_true_negatives = len(np.where(sample[subset,1]!=target_class)[0])\n",
    "    num_false_positives = num_false - num_true_negatives\n",
    "    # Uncomment to print the counts\n",
    "    # print(num_false,num_false_positives,num_true_negatives)\n",
    "\n",
    "    denom = num_true_positives + num_false_negatives\n",
    "    if denom > 0:\n",
    "        return num_true_positives / denom\n",
    "    else:\n",
    "        return 0.0\n",
    "\n",
    "def calc_recall(samples,target_class=0):\n",
    "    return np.array([recall(x,target_class) for x in samples])"
   ]
  },
  {
   "cell_type": "code",
   "execution_count": null,
   "metadata": {},
   "outputs": [],
   "source": [
    "chosen_class = 0"
   ]
  },
  {
   "cell_type": "code",
   "execution_count": null,
   "metadata": {},
   "outputs": [],
   "source": [
    "# Precision/recall\n",
    "p = np.array([calc_precision(np.loadtxt(\"cancer-results-%d.txt\"%x).reshape((100,-1,2)),chosen_class) for x in test_sizes]).transpose()\n",
    "r = np.array([calc_recall(np.loadtxt(\"cancer-results-%d.txt\"%x).reshape((100,-1,2)),chosen_class) for x in test_sizes]).transpose()"
   ]
  },
  {
   "cell_type": "code",
   "execution_count": null,
   "metadata": {},
   "outputs": [],
   "source": [
    "epsilon = 1e-8"
   ]
  },
  {
   "cell_type": "code",
   "execution_count": null,
   "metadata": {},
   "outputs": [],
   "source": [
    "p_means = np.mean(p,0)+epsilon\n",
    "r_means = np.mean(r,0)+epsilon\n",
    "p_stderr = (np.std(p,0)+epsilon)/np.sqrt(p.shape[0])\n",
    "r_stderr = (np.std(r,0)+epsilon)/np.sqrt(r.shape[0])"
   ]
  },
  {
   "cell_type": "code",
   "execution_count": null,
   "metadata": {},
   "outputs": [],
   "source": [
    "# F-score - summary of balanced precision/recall\n",
    "# (Harmonic mean of the Precision and Recall)\n",
    "F = 2.0 * (p_means*r_means) / (p_means+r_means)\n",
    "F_stderr = 2.0 * (p_stderr*r_stderr) / (p_stderr+r_stderr)"
   ]
  },
  {
   "cell_type": "code",
   "execution_count": null,
   "metadata": {},
   "outputs": [],
   "source": [
    "plt.bar([str(x) for x in test_sizes],F,yerr=1.96*F_stderr,capsize=2)\n",
    "plt.ylim(0,1)\n",
    "plt.ylabel(\"F-score [c=%d]\"%(chosen_class))\n",
    "plt.xlabel(\"Test Set Size [N=%d]\"%(p.shape[0]))\n",
    "plt.show()"
   ]
  },
  {
   "cell_type": "code",
   "execution_count": null,
   "metadata": {},
   "outputs": [],
   "source": []
  }
 ],
 "metadata": {
  "kernelspec": {
   "display_name": "Python 3 (ipykernel)",
   "language": "python",
   "name": "python3"
  },
  "language_info": {
   "codemirror_mode": {
    "name": "ipython",
    "version": 3
   },
   "file_extension": ".py",
   "mimetype": "text/x-python",
   "name": "python",
   "nbconvert_exporter": "python",
   "pygments_lexer": "ipython3",
   "version": "3.9.7"
  }
 },
 "nbformat": 4,
 "nbformat_minor": 4
}
